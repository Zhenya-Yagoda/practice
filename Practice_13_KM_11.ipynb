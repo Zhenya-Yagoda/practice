{
  "cells": [
    {
      "cell_type": "markdown",
      "metadata": {
        "id": "FMqboNwO4rVs"
      },
      "source": [
        "# **Курс \"Програмування на мові Python\"**"
      ]
    },
    {
      "cell_type": "markdown",
      "metadata": {
        "id": "A2T6MigL5Z06"
      },
      "source": [
        "## **Практичне зайняття №13**\n",
        "\n",
        "### Тема: \"Робота з файлами\""
      ]
    },
    {
      "cell_type": "markdown",
      "metadata": {
        "id": "cfCdgK2zXm7e"
      },
      "source": [
        "### **Завдання 1 (1,5 бали)**\n",
        "\n",
        "У 1939 році друком вийшов роман американського письменика Ернеста Вінсента Райта \"Ґетсбі\". Особливу увагу публіки він здобув через те, що письменник жодного разу не використав у романі літеру \"e\" (роман складається з більше ніж 50,000 слів), яка є найбільш вживаною літерою в англійській мові.\n",
        "\n",
        "Порахуйте кількість входжень кожної літери у текст роману. Виведіть список літер англійського алфавіту, а також інформацію про те, скільки відсотків від усіх літер тексту складає кожна літера алфавіту.\n",
        "\n",
        "Зауваження:\n",
        "\n",
        "1. Програма має ігнорувати будь-які символи, окрім літер.\n",
        "\n",
        "2. Переведіть усі літери у верхній або у нижній регістр.\n",
        "\n",
        "3. Під час виведення відсортуйте літери у порядку зменшення їхнього відсотка. Літера \"e\" має стояти на останньому місці у цьому списку (хоча кілька літер e там все ж таки зустрічається).\n",
        "\n",
        "4. Виведіть перші 5 та останні 5 літер відсортованого списку разом з відсотковими значеннями, що їм відповідають. Відсотки округліть до тисячних."
      ]
    },
    {
      "cell_type": "code",
      "execution_count": 1,
      "metadata": {
        "id": "u4-fHJJ6U462",
        "tags": [
          "outputPrepend"
        ]
      },
      "outputs": [
        {
          "name": "stdout",
          "output_type": "stream",
          "text": [
            "\n",
            "List of alphabet:  ['a', 'b', 'c', 'd', 'e', 'f', 'g', 'h', 'i', 'j', 'k', 'l', 'm', 'n', 'o', 'p', 'q', 'r', 's', 't', 'u', 'v', 'w', 'x', 'y', 'z']\n",
            "['a', 'o', 'i', 'n', 't', 's', 'l', 'h', 'r', 'u', 'd', 'g', 'y', 'w', 'c', 'f', 'b', 'm', 'p', 'k', 'v', 'j', 'z', 'x', 'q', 'e']\n",
            "\n",
            "The number of percent of all letters:  {'a': 8.259, 'o': 7.863, 'i': 6.664, 'n': 6.491, 't': 6.468, 's': 5.273, 'l': 4.012, 'h': 3.727, 'r': 3.629, 'u': 3.132, 'd': 3.112, 'g': 2.706, 'y': 2.4, 'w': 2.113, 'c': 2.023, 'f': 1.629, 'b': 1.612, 'm': 1.584, 'p': 1.446, 'k': 0.885, 'v': 0.255, 'j': 0.17, 'z': 0.081, 'x': 0.062, 'q': 0.04, 'e': 0.177}\n",
            "\n",
            "Sorted 5 first anf 5 the last:  {'a': 8.259, 'o': 7.863, 'i': 6.664, 'n': 6.491, 't': 6.468, 'j': 0.17, 'z': 0.081, 'x': 0.062, 'q': 0.04, 'e': 0.177}\n"
          ]
        }
      ],
      "source": [
        "import os   #print(os.getcwd())\n",
        "import string\n",
        "os.chdir('C:/Users/User/Desktop/Practice_13_KM_11-20211202T083355Z-001/Practice_13_KM_11')\n",
        "s_letters=string.ascii_lowercase\n",
        "s_letters=list(s_letters)\n",
        "print('\\nList of alphabet: ',s_letters)\n",
        "def count1(x):\n",
        "    lst1=[]\n",
        "    file=open('gadsby.txt' , 'rt')\n",
        "    file.seek(0)\n",
        "    for line in file:\n",
        "        for i in line:\n",
        "            if str(x)==i.lower():\n",
        "                lst1.append(x)\n",
        "    res1=len(lst1)      \n",
        "    file.close()\n",
        "    return res1  \n",
        "file=open('gadsby.txt' , 'rt')\n",
        "file.seek(0)\n",
        "sum=0\n",
        "for line in file:\n",
        "    for i in line:\n",
        "        sum+=1\n",
        "file.close()\n",
        "lst1=[]\n",
        "for i in s_letters: #count\n",
        "    x=count1(i)\n",
        "    lst1.append(x)\n",
        "lst_pr=[]\n",
        "for k in lst1: #percent\n",
        "    pr=round(k/sum*100,3)\n",
        "    lst_pr.append(float(pr))\n",
        "d={}\n",
        "for index in range(min(len(s_letters),len(lst_pr))): #dictionary\n",
        "    d[lst_pr[index]] = s_letters[index]\n",
        "d2={}\n",
        "for index in range(min(len(s_letters),len(lst_pr))): #dictionary\n",
        "    d2[s_letters[index]] = lst_pr[index]\n",
        "l=[]\n",
        "while len(lst_pr)!=1: #sort\n",
        "    m=max(lst_pr)\n",
        "    l.append(m)\n",
        "    lst_pr.remove(m)\n",
        "else:\n",
        "   l.append(lst_pr[0]) \n",
        "nl=[]\n",
        "for i in l:  #list of letters\n",
        "    let = d.get(i) \n",
        "    nl.append(let)\n",
        "nl.remove('e')\n",
        "nl.append('e')\n",
        "print(nl) #list of sorted letter\n",
        "dp={}\n",
        "for f in range(len(nl)):\n",
        "    dp[nl[f]]=d2.get(nl[f])\n",
        "print ('\\nThe number of percent of all letters: ',dp)\n",
        "dn={}\n",
        "for i in range(5):\n",
        "    dn[nl[i]]=d2.get(nl[i])\n",
        "for k in range(-5,0):\n",
        "    dn[nl[k]]=d2.get(nl[k])\n",
        "print('\\nSorted 5 first anf 5 the last: ' ,dn)\n",
        "    \n",
        "\n"
      ]
    },
    {
      "cell_type": "markdown",
      "metadata": {
        "id": "A34oz70eU463"
      },
      "source": [
        "### **Завдання 2 (1,5 бали)**\n",
        "\n",
        "Архів archive.zip містить 140 txt-файлів, в яких збережено інфорамцію про те, якими іменами називали дітей у США в період з 1880 по 2019 рік.\n",
        "\n",
        "Структура рядка кожного файлу така:\n",
        "\n",
        "*name,sex,number_of_occurrences*\n",
        "\n",
        "Напишіть програму, яка зчитуватиме кожен файл та визначатиме окремо чоловічі, окремо жіночі імена, що були найпопулярнішими хоча б в один з років. Далі програма повинна підраховувати, скільки разів кожне з цих імен ставало найпопулярнишим, та виводити ранжовані списки чоловічіх та жіночих імен у вигляді:\n",
        "\n",
        "```\n",
        "Michael 44\n",
        "John 44\n",
        "Robert 17\n",
        "...\n",
        "\n",
        "Mary 76\n",
        "Jennifer 15\n",
        "Emily 12\n",
        "...\n",
        "```"
      ]
    },
    {
      "cell_type": "code",
      "execution_count": null,
      "metadata": {},
      "outputs": [],
      "source": []
    }
  ],
  "metadata": {
    "colab": {
      "collapsed_sections": [],
      "name": "Practice_14_KM_01.ipynb",
      "provenance": []
    },
    "kernelspec": {
      "display_name": "Python 3",
      "name": "python3"
    },
    "language_info": {
      "codemirror_mode": {
        "name": "ipython",
        "version": 3
      },
      "file_extension": ".py",
      "mimetype": "text/x-python",
      "name": "python",
      "nbconvert_exporter": "python",
      "pygments_lexer": "ipython3",
      "version": "3.9.7"
    }
  },
  "nbformat": 4,
  "nbformat_minor": 0
}
