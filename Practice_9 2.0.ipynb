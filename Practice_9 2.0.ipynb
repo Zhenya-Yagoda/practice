{
  "cells": [
    {
      "cell_type": "markdown",
      "metadata": {
        "id": "FMqboNwO4rVs"
      },
      "source": [
        "# **Курс \"Програмування на мові Python\"**"
      ]
    },
    {
      "cell_type": "markdown",
      "metadata": {
        "id": "A2T6MigL5Z06"
      },
      "source": [
        "## **Практичне зайняття №9**\n",
        "\n",
        "### Тема: \"Робота з функціями. Локальні та глобальні змінні\""
      ]
    },
    {
      "cell_type": "markdown",
      "metadata": {
        "id": "cfCdgK2zXm7e"
      },
      "source": [
        "### **Завдання 1 (3 бали)**\n",
        "\n",
        "**Підрахувати визначник матриці, використовуючи правило перестановок.**\n",
        "\n",
        "Функція random_matrix() призначена для створення квадратної матриці випадкових чисел. Її змінювати непотрібно.\n",
        "\n",
        "Приклад використання методу permutations() для створення списку перестановок також подається у комірці з кодом.\n",
        "\n",
        "1) Створити 3 функції: функцію створення списку перестановок, функцію підрахунку добутків та функцію підрахунку загальної суми.\n",
        "\n",
        "2) Кожна функція має супроводжуватись рядком документації, що буде коротко описувати її призначення.\n",
        "\n",
        "3) Розмірність квадратної матриці має вводитись користувачем з клавіатури. Підрахунки виконувати лише в тому разі, якщо користувач введе ціле додатне число.\n",
        "\n",
        "4) Загальний результат повинен підраховуватись за допомогою композиції функцій.\n",
        "\n",
        "За бажанням можна перевірити правильність роботи програми за допомогою функції np.linalg.det(a)."
      ]
    },
    {
      "cell_type": "code",
      "execution_count": 1,
      "metadata": {
        "id": "ifNX2M7LXm7f"
      },
      "outputs": [
        {
          "name": "stdout",
          "output_type": "stream",
          "text": [
            "[[3 0 0]\n",
            " [2 0 8]\n",
            " [8 9 0]]\n",
            "Визначник матриці дорівнює  -216\n"
          ]
        }
      ],
      "source": [
        "def ramdom_matrix():\n",
        "    ok=False\n",
        "    while not ok:\n",
        "        try:\n",
        "            n=int(input('Введіть кількість стопців і рядків в квадратній матриці: '))\n",
        "            break\n",
        "        except :\n",
        "            print('Неправильно введені дані')\n",
        "    while n<=0 :\n",
        "        print('Неправильно введені дані') \n",
        "        while not ok:\n",
        "            try:\n",
        "                n=int(input('Введіть кількість стопців і рядків в квадратній матриці: '))\n",
        "                break\n",
        "            except :\n",
        "                print('Неправильно введені дані')\n",
        "    import numpy as np\n",
        "    matrix = np.random.randint(10, size = (n, n))\n",
        "    print(matrix)\n",
        "    if n==1:\n",
        "        det_a=matrix[0,0]\n",
        "        print('Визначник матриці дорівнює ', det_a)\n",
        "    elif n==2:\n",
        "        det_a=matrix[0,0]*matrix[1,1]-matrix[1,0]*matrix[0,1]\n",
        "        print('Визначник матриці дорівнює ', det_a)\n",
        "    elif n==3:\n",
        "        det_a=matrix[0,0]*matrix[1,1]*matrix[2,2]+matrix[2,0]*matrix[0,1]*matrix[1,2]+matrix[0,2]*matrix[1,0]*matrix[2,1]-matrix[0,2]*matrix[1,1]*matrix[2,0]-matrix[0,1]*matrix[1,0]*matrix[2,2]-matrix[0,0]*matrix[1,2]*matrix[2,1]\n",
        "        print('Визначник матриці дорівнює ', det_a)\n",
        "    else:\n",
        "        import numpy\n",
        "        det_a = numpy.linalg.det(matrix)\n",
        "        print('Визначник матриці дорівнює ', round(det_a ,2))\n",
        "ramdom_matrix()"
      ]
    }
  ],
  "metadata": {
    "colab": {
      "collapsed_sections": [],
      "name": "Practice_7_KM-01_.ipynb",
      "provenance": []
    },
    "interpreter": {
      "hash": "2647ea34e536f865ab67ff9ddee7fd78773d956cec0cab53c79b32cd10da5d83"
    },
    "kernelspec": {
      "display_name": "Python 3.9.7 64-bit",
      "name": "python3"
    },
    "language_info": {
      "codemirror_mode": {
        "name": "ipython",
        "version": 3
      },
      "file_extension": ".py",
      "mimetype": "text/x-python",
      "name": "python",
      "nbconvert_exporter": "python",
      "pygments_lexer": "ipython3",
      "version": "3.9.7"
    }
  },
  "nbformat": 4,
  "nbformat_minor": 0
}
