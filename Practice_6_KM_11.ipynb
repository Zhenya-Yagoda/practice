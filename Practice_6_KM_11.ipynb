{
  "nbformat": 4,
  "nbformat_minor": 2,
  "metadata": {
    "colab": {
      "name": "Practice_5_KM-03_.ipynb",
      "provenance": [],
      "collapsed_sections": []
    },
    "kernelspec": {
      "name": "python3",
      "display_name": "Python 3"
    }
  },
  "cells": [
    {
      "cell_type": "markdown",
      "source": [
        "# **Курс \"Програмування на мові Python\"**"
      ],
      "metadata": {
        "id": "FMqboNwO4rVs"
      }
    },
    {
      "cell_type": "markdown",
      "source": [
        "## **Практичне зайняття №6**\n",
        "### Тема: \"Робота з кортежами, множинами та словниками\""
      ],
      "metadata": {
        "id": "A2T6MigL5Z06"
      }
    },
    {
      "cell_type": "markdown",
      "source": [
        "### **Завдання 1 (1,5 бали)**\n",
        "\n",
        "Напишіть програму, яка визначала б, чи можна з літер однієї фрази скласти іншу фразу. Наприклад:\n",
        "\n",
        "\"William Shakespeare\" -> \"A small spark\"\n",
        "\n",
        "Перша фраза містить 11 унікальних літер (хоча деякі повторюються): a, e, h, i, k, l, m, p, r, s та w. Друга фраза містить 7 унікальних літер: a, k, l, m, p, r та s. Кожна з літер другої фрази зустрічається принаймні один раз у першій фразі.\n",
        "\n",
        "1. Обидві фрази повинні вводитись користувачем з клавіатури.\n",
        "\n",
        "2. Скористайтесь властивістю множин у мові програмування Python для виділення колекції унікальних літер.\n",
        "\n",
        "3. У множину не повинні потрапити пробіли, розділові знаки та інші символи, що не є літерами (скористайтесь методом **isalpha()**). Також усі літери мають бути переведені в нижній або верхній регістр (скористайтесь методами **lower()** або **upper()**).\n",
        "\n",
        "4. Зверніть увагу на те, що літери як в першій, так і вдругій фразі можуть повторюватись. Однак множина унікальних літер другої фрази повинна бути підмножиною множини унікальних літер першої фрази.\n",
        "\n",
        "5. У складі змістовного повідомлення програма повинна виводити множину літер першої фрази, множину літер другої фрази, а також змістовне повідомлення про те, чи можна скласти з літер першої фрази другу фразу."
      ],
      "metadata": {
        "id": "4AV5CN7N4xja"
      }
    },
    {
      "cell_type": "code",
      "execution_count": null,
      "source": [
        "x = input('Enter first phrase : ')\r\n",
        "x = ''.join(i for i in x if i.isalpha() )\r\n",
        "x = x.lower()\r\n",
        "s= set(x)\r\n",
        "x1 = input('Enter second phrase : ')\r\n",
        "x1 = ''.join(i for i in x1 if i.isalpha() )\r\n",
        "x1 = x1.lower()\r\n",
        "s1= set(x1)\r\n",
        "print ('The set of letters of the first phrase' , s )\r\n",
        "print ('The set of letters of the second phrase' , s1 )\r\n",
        "if s & s1 == s1:\r\n",
        "    print('You can make second phrase phrase from the letters of the first phrase')\r\n",
        "else :\r\n",
        "    print('You can not make second phrase phrase from the letters of the first phrase')"
      ],
      "outputs": [],
      "metadata": {
        "id": "9Mesp1jV4xjb"
      }
    },
    {
      "cell_type": "markdown",
      "source": [
        "### **Завдання 2 (1,5 бали)**\n",
        "\n",
        "Скрабл (Ерудит) - це настільна гра, в якій від 2 до 4 гравців складають слова з наявних літер на полі розміром 15 х 15. За кожну використану літеру гравець отримує певну кількість балів. Перелік літер та балів, які можна отримати за використання цих літер, подано у таблиці.\n",
        "\n",
        "Бали | Літери\n",
        "--- | ---\n",
        "1 | A, E, I, L, N, O, R, S, T, U\n",
        "2 | D, G\n",
        "3 | B, C, M, P\n",
        "4 | F, H, V, W, Y\n",
        "5 | K\n",
        "8 | J, X\n",
        "10 | Q, Z\n",
        "\n",
        "Напишіть програму, яка підраховує та виводить загальну кількість балів, яку можна отримати за слово, введене користувачем з клавіатури.\n",
        "\n",
        "1. Скористайтесь словником для збереження усіх балів та літер, за які ці бали нараховуються. \n",
        "\n",
        "2. Якщо користувач введе кілька слів, виведіть бали, які можна отримати за кожне з них окремо.\n",
        "\n",
        "3. Якщо користувач введе символи, що не є літерами (окрім пробіла, який можна використовувати для розділення слів), програма має їх ігнорувати.\n",
        "\n",
        "4. Програма повинна приймати літери як верхнього, так і нижнього регістрів.\n",
        "\n",
        "Наприклад, якщо користувач введе \"Hello, World!\", програма повинна вивести:\n",
        "\n",
        "8 9\n",
        "\n",
        "або більш розгорнутий варіант (за бажанням):\n",
        "\n",
        "4+1+1+1+1=8\n",
        "\n",
        "4+1+1+1+2=9"
      ],
      "metadata": {
        "id": "t7fqn1NN-J7z"
      }
    },
    {
      "cell_type": "code",
      "execution_count": null,
      "source": [
        "x = str(input('Enter word : ' ))\r\n",
        "x1= x.split()\r\n",
        "dict = {1: 'A,E,I,L,N,O,R,S,T,U', \r\n",
        "2 : 'D,G',\r\n",
        "3 : 'B,C,M,P',\r\n",
        "4 : 'F,H,V,W,Y',\r\n",
        "5 : 'K',\r\n",
        "8 : 'J,X',\r\n",
        "10 : 'Q,Z'}\r\n",
        "\r\n",
        "x1=list(x1)\r\n",
        "leghth=len(x1)\r\n",
        "if leghth==1  :\r\n",
        "    x1=''.join(x1)\r\n",
        "    x1 = x1.upper()\r\n",
        "    x1 = ''.join(i for i in x1 if i.isalpha() )\r\n",
        "    x1 = list(x1)\r\n",
        "    a=x1.count('A')\r\n",
        "    e=x1.count('E')\r\n",
        "    i=x1.count('I')\r\n",
        "    l=x1.count('L')\r\n",
        "    n=x1.count('N')\r\n",
        "    o=x1.count('O')\r\n",
        "    r=x1.count('R')\r\n",
        "    s=x1.count('S')\r\n",
        "    t=x1.count('T')\r\n",
        "    u=x1.count('U')\r\n",
        "\r\n",
        "    d=x1.count('D')\r\n",
        "    g=x1.count('G')\r\n",
        "\r\n",
        "    b=x1.count('B')\r\n",
        "    c=x1.count('C')\r\n",
        "    m=x1.count('M')\r\n",
        "    p=x1.count('P')\r\n",
        "\r\n",
        "    f=x1.count('F')\r\n",
        "    h=x1.count('H')\r\n",
        "    v=x1.count('V')\r\n",
        "    w=x1.count('W')\r\n",
        "    y=x1.count('Y')\r\n",
        "\r\n",
        "    k=x1.count('K')\r\n",
        "\r\n",
        "    j=x1.count('J')\r\n",
        "    x=x1.count('X')\r\n",
        "\r\n",
        "    q=x1.count('Q')\r\n",
        "    z=x1.count('Z')\r\n",
        "\r\n",
        "    points = a+e+i+l+n+o+r+s+t+u+2*(d+g)+3*(b+c+m+p)+ 4*(f+h+v+w+y)+5*k+8*(j+x)+10*(q+z)\r\n",
        "    print(points)\r\n",
        "else :\r\n",
        "    for items in x1 :\r\n",
        "        l1=list(items)\r\n",
        "        for elements in l1 :\r\n",
        "            x1=''.join(l1)\r\n",
        "            x1 = x1.upper()\r\n",
        "            x1 = ''.join(i for i in x1 if i.isalpha() )\r\n",
        "            \r\n",
        "            x1 = list(x1)\r\n",
        "            a=x1.count('A')\r\n",
        "            e=x1.count('E')\r\n",
        "            i=x1.count('I')\r\n",
        "            l=x1.count('L')\r\n",
        "            n=x1.count('N')\r\n",
        "            o=x1.count('O')\r\n",
        "            r=x1.count('R')\r\n",
        "            s=x1.count('S')\r\n",
        "            t=x1.count('T')\r\n",
        "            u=x1.count('U')\r\n",
        "\r\n",
        "            d=x1.count('D')\r\n",
        "            g=x1.count('G')\r\n",
        "\r\n",
        "            b=x1.count('B')\r\n",
        "            c=x1.count('C')\r\n",
        "            m=x1.count('M')\r\n",
        "            p=x1.count('P')\r\n",
        "\r\n",
        "            f=x1.count('F')\r\n",
        "            h=x1.count('L')\r\n",
        "            v=x1.count('Y')\r\n",
        "            w=x1.count('W')\r\n",
        "            y=x1.count('Y')\r\n",
        "\r\n",
        "            k=x1.count('K')\r\n",
        "\r\n",
        "            j=x1.count('J')\r\n",
        "            x=x1.count('X')\r\n",
        "\r\n",
        "            q=x1.count('Q')\r\n",
        "            z=x1.count('Z')\r\n",
        "\r\n",
        "            points = a+e+i+l+n+o+r+s+t+u+2*(d+g)+3*(b+c+m+p)+4*(f+h+v+w+y)+5*k+8*(j+x)+10*(q+z)\r\n",
        "        print(points)\r\n"
      ],
      "outputs": [],
      "metadata": {
        "id": "EVY800vg4xjg"
      }
    }
  ]
}