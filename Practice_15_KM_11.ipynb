{
  "cells": [
    {
      "cell_type": "markdown",
      "metadata": {
        "id": "FMqboNwO4rVs"
      },
      "source": [
        "# **Курс \"Програмування на мові Python\"**"
      ]
    },
    {
      "cell_type": "markdown",
      "metadata": {
        "id": "A2T6MigL5Z06"
      },
      "source": [
        "## **Практичне зайняття №15**\n",
        "\n",
        "### Тема: \"Ітератори та генератори\""
      ]
    },
    {
      "cell_type": "markdown",
      "metadata": {
        "id": "cfCdgK2zXm7e"
      },
      "source": [
        "### **Завдання 1 (2 бали)**\n",
        "\n",
        "Розрахуйте коефієнти розкладу [біному Ньютона](https://uk.wikipedia.org/wiki/%D0%91%D1%96%D0%BD%D0%BE%D0%BC_%D0%9D%D1%8C%D1%8E%D1%82%D0%BE%D0%BD%D0%B0) за допомогою генератора.\n",
        "\n",
        "1. Степінь многочлена користувач має вводити з клавіатури (невід'ємне ціле число).\n",
        "\n",
        "2. Програма має підраховувати біноміальні коефіцієнти для біномів усіх степенів, починаючи від 0 і закінчуючи тим, який ввів користувач.\n",
        "\n",
        "3. Коефіцієнти мають виводитись у вигляді трикутника Паскаля.\n",
        "\n",
        "Наприклад, якщо користувач введе число 5, програма має вивести результат:\n",
        "\n",
        "1\n",
        "\n",
        "1 1\n",
        "\n",
        "1 2 1\n",
        "\n",
        "1 3 3 1\n",
        "\n",
        "1 4 6 4 1\n",
        "\n",
        "1 5 10 10 5 1\n"
      ]
    },
    {
      "cell_type": "code",
      "execution_count": null,
      "metadata": {
        "id": "Bku8v9CjE_Qc"
      },
      "outputs": [],
      "source": [
        "def factorial(x):\n",
        "    if x == 1: \n",
        "        return 1 \n",
        "    else:\n",
        "        return x * factorial(x-1)       \n",
        "def ch():\n",
        "    x=input('Enter n - ')\n",
        "    try :\n",
        "        x= int(x)\n",
        "        if x>=0:\n",
        "            return x\n",
        "        else:\n",
        "            print('Error')\n",
        "            return ch()\n",
        "    except:\n",
        "        print('Error')\n",
        "        return ch() \n",
        "n=ch()\n",
        "if n==0:\n",
        "    print('1')\n",
        "else:\n",
        "    bk=[['1']]+[['1', '1']]+[(['1']+[str(int(factorial(n)/(factorial(k)*factorial(n-k)))) for k in range(1,n)]+['1']) for n in range (2, n+1)]\n",
        "    for el in bk:\n",
        "        print(' '.join(el)) "
      ]
    },
    {
      "cell_type": "markdown",
      "metadata": {},
      "source": [
        "### **Завдання 2 (1 бал)**\n",
        "\n",
        "Реалізуйте генератор колоди карт (52 штуки). Кожна карта подається у вигляді рядка типу \"*5 diamonds*\".\n",
        "\n",
        "1. 4 масті (diamonds, clubs, hearts, spades) та 13 значень карт мають зберігатись у двох окремих списках (кортежах).\n",
        "\n",
        "2. Значення від 2 до 10 мають гереруватись за допомогою функції range().\n",
        "\n",
        "3. Окрім чисел, у списку значень мають бути присутніми елементи 'A' (Ace - туз), 'J' (Jack - валет), 'Q' (Queen - дама) та 'K' (King - король).\n",
        "\n",
        "4. Карти мають виводитись у порядку від 'A' до 'K'. Порядок виведення мастей не має значення.\n",
        "\n",
        "    *Приклад:*\n",
        "\n",
        "    А diamonds\n",
        "\n",
        "    2 diamonds\n",
        "\n",
        "    ...\n",
        "\n",
        "    K diamonds\n",
        "\n",
        "    A clubs\n",
        "\n",
        "    ...\n",
        "\n",
        "5. Кожна наступна карта має виводитись за допомогою функції next().\n",
        "\n",
        "6. Виведення карт має завершуватись виключенням StopIteration."
      ]
    },
    {
      "cell_type": "code",
      "execution_count": null,
      "metadata": {},
      "outputs": [],
      "source": [
        "try:\n",
        "    a1=tuple(('diamonts','clubs','hearts','spades'))\n",
        "    b1=tuple(['A']+[str(i) for i in range(2,11)]+['J','Q','K'])\n",
        "    a11=iter(a1)\n",
        "    a11i=next(a11)\n",
        "    for i in b1:\n",
        "        print(i,a11i)\n",
        "    a12=iter(a1)\n",
        "    a12i=next(a12)\n",
        "    a12i=next(a12)\n",
        "    for i in b1:\n",
        "        print(i,a12i)\n",
        "    a13=iter(a1)\n",
        "    a13i=next(a13)\n",
        "    a13i=next(a13)\n",
        "    a13i=next(a13)\n",
        "    for i in b1:\n",
        "        print(i,a13i)\n",
        "    a14=iter(a1)\n",
        "    a14i=next(a14)\n",
        "    a14i=next(a14)\n",
        "    a14i=next(a14)\n",
        "    a14i=next(a14)\n",
        "    for i in b1:\n",
        "        print(i,a14i)\n",
        "except StopIteration:\n",
        "    print('Stop iteretion') \n"
      ]
    }
  ],
  "metadata": {
    "colab": {
      "collapsed_sections": [],
      "name": "Practice_10-11_KM_01_.ipynb",
      "provenance": []
    },
    "kernelspec": {
      "display_name": "Python 3",
      "name": "python3"
    },
    "language_info": {
      "codemirror_mode": {
        "name": "ipython",
        "version": 3
      },
      "file_extension": ".py",
      "mimetype": "text/x-python",
      "name": "python",
      "nbconvert_exporter": "python",
      "pygments_lexer": "ipython3",
      "version": "3.10.0"
    }
  },
  "nbformat": 4,
  "nbformat_minor": 0
}
