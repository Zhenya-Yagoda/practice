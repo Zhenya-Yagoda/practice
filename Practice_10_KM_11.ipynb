{
  "cells": [
    {
      "cell_type": "markdown",
      "metadata": {
        "id": "FMqboNwO4rVs"
      },
      "source": [
        "# **Курс \"Програмування на мові Python\"**"
      ]
    },
    {
      "cell_type": "markdown",
      "metadata": {
        "id": "A2T6MigL5Z06"
      },
      "source": [
        "## **Практичне зайняття №10**\n",
        "\n",
        "### Тема: \"Лямбда-функції. Функції вищих порядків\""
      ]
    },
    {
      "cell_type": "markdown",
      "metadata": {
        "id": "cfCdgK2zXm7e"
      },
      "source": [
        "### **Завдання 1 (1 бал)**\n",
        "\n",
        "Продавець роздрібного товару влаштовує розпродаж. Для всіх товарів знижка однакова - 60%. Щоб вивісити нові цінники, продавець хоче скласти таблицю, в якій для кожного товару буде підрахована його нова вартість та сума знижки.\n",
        "\n",
        "Написати програму, яка буде генерувати таку таблицю. Вартість одиниць товарів до розпродажу подано у списку products_list. \n",
        "\n",
        "1. Для підрахунку невідомих значень повинні використовуватись вбудовані функції вищих порядків.\n",
        "\n",
        "2. Вартість з урахуванням знижки та суми знижок для кожного товару повинні зберігатись у двох окремих списках. Порядок товарів у нових списках повинен бути такий самий, як і в списку products_list.\n",
        "\n",
        "3. Кожне підраховане числове значення має бути округлене до сотих.\n",
        "\n",
        "4. Дані повинні виводитись у вигляді:\n",
        "\n",
        "**Discount table:**\n",
        "\n",
        "**29.25 11.7 17.55**\n",
        "\n",
        "**48.99 19.6 29.39**\n",
        "\n",
        "**...**\n",
        "\n",
        "\n",
        "products_list = [29.25, 48.99, 99.98, 124.65, 214.30, 543.90, 799.85]\n"
      ]
    },
    {
      "cell_type": "code",
      "execution_count": 3,
      "metadata": {
        "id": "ifNX2M7LXm7f"
      },
      "outputs": [
        {
          "name": "stdout",
          "output_type": "stream",
          "text": [
            "Discount table:\n",
            "29.25   11.7    17.55  \n",
            "48.99   19.6    29.39  \n",
            "99.98   39.99   59.99  \n",
            "124.65  49.86   74.79  \n",
            "214.3   85.72   128.58 \n",
            "543.9   217.56  326.34 \n",
            "799.85  319.94  479.91 \n"
          ]
        }
      ],
      "source": [
        "products_list = [29.25, 48.99, 99.98, 124.65, 214.30, 543.90, 799.85]\n",
        "def price(x):\n",
        "    return round( x*0.4 , 2 )\n",
        "res_price = list(map (price , products_list))\n",
        "def dis(x):\n",
        "    return round(x*0.6 , 2)\n",
        "res_dis = list(map (dis , products_list))\n",
        "print('Discount table:')\n",
        "for i in range(0, 7):\n",
        "    print('{} {} {}'.format(str(products_list[i]).ljust(7) , str(res_price[i]).ljust(7) ,  str(res_dis[i]).ljust(7)))    "
      ]
    },
    {
      "cell_type": "markdown",
      "metadata": {},
      "source": [
        "### **Завдання 2 (2 бали)**\n",
        "\n",
        "Зазвичай рік має 365 днів. Однак у високосні роки додається ще один день - 29 лютого. Правила визначення високосного року такі:\n",
        "\n",
        "- Будь-який рік, що ділиться на 400 - високосний.\n",
        "\n",
        "- З тих років, що залишились, будь-який рік, що ділиться на 100 - **не** високосний.\n",
        "\n",
        "- З тих років, що залишились, будь-який рік, що ділиться на 4 - високосний.\n",
        "\n",
        "- Усі інші роки, що залишились - **не** високосні.\n",
        "\n",
        "1) Створіть функцію, в якій за допомогою вбудованих функцій вищих порядків будуть визначатися високосні роки серед перелічених років у списку years. Створена функція має повертати список високосних років.\n",
        "\n",
        "2) Створіть функцію вищих порядків, яка прийматиме на вхід попередню функцію та визначатиме кількість днів у місяці. Також функція повинна приймати на вхід ще 2 параметри: ціле число від 1 до 12 (місяць) та рік, як ціле чотирицифрове число. Ці значення корисувач має вводити з клавіатури. Перевірку введених даних слід виконувати поза межами функцій."
      ]
    },
    {
      "cell_type": "code",
      "execution_count": 5,
      "metadata": {},
      "outputs": [
        {
          "name": "stdout",
          "output_type": "stream",
          "text": [
            "Кількість днів в 2 місяці 1984 року дорівнює: 29\n"
          ]
        }
      ],
      "source": [
        "import numpy as np\n",
        "\n",
        "years = np.arange(1900, 2020+1, 1)\n",
        "years=list(years)\n",
        "\n",
        "def a(x):\n",
        "    if x % 100 !=0 and x % 4 == 0:\n",
        "        return True\n",
        "v_years =list(filter (a , years))\n",
        "# print('Список високосних років :' , v_years)\n",
        "def p(x):\n",
        "    try:\n",
        "        int(x)\n",
        "        return True\n",
        "    except ValueError:\n",
        "        return False\n",
        "\n",
        "n_d_nv=[31,28,31,30,31,30,31,31,30,31,30,31] #не високосний рік\n",
        "n_d_v=[31,29,31,30,31,30,31,31,30,31,30,31]  #високосний рік\n",
        "\n",
        "def year():\n",
        "    ok=False\n",
        "    while not ok:\n",
        "        y=input('Введіть рік : ')\n",
        "        if p(y)==True and int(y)>=1900 and int(y)<=2020:\n",
        "            ok=True\n",
        "        else:\n",
        "            print('Помилка.Введіть знову.')\n",
        "    return int(y)\n",
        "\n",
        "def mon():\n",
        "    ok=False\n",
        "    while not ok:\n",
        "        m=input('Введіть місяць : ')\n",
        "        if p(m)==True and int(m)>0 and int(m)<=12  :\n",
        "            ok=True\n",
        "        else:\n",
        "            print('Помилка.Введіть знову.')\n",
        "    return int(m)\n",
        "\n",
        "def res(v_years, m ,y):\n",
        "    if y in v_years:\n",
        "        nd=n_d_v[m-1]\n",
        "    else :\n",
        "        nd=n_d_nv[m-1]\n",
        "    return print('Кількість днів в', m,'місяці',y,'року дорівнює:' , nd)\n",
        "     \n",
        "res(list(filter(a,years)), mon() , year())"
      ]
    }
  ],
  "metadata": {
    "colab": {
      "collapsed_sections": [],
      "name": "Practice_7_KM-01_.ipynb",
      "provenance": []
    },
    "interpreter": {
      "hash": "2647ea34e536f865ab67ff9ddee7fd78773d956cec0cab53c79b32cd10da5d83"
    },
    "kernelspec": {
      "display_name": "Python 3.9.7 64-bit",
      "name": "python3"
    },
    "language_info": {
      "codemirror_mode": {
        "name": "ipython",
        "version": 3
      },
      "file_extension": ".py",
      "mimetype": "text/x-python",
      "name": "python",
      "nbconvert_exporter": "python",
      "pygments_lexer": "ipython3",
      "version": "3.9.7"
    }
  },
  "nbformat": 4,
  "nbformat_minor": 0
}
