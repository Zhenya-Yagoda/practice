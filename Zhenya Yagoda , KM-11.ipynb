{
  "nbformat": 4,
  "nbformat_minor": 2,
  "metadata": {
    "colab": {
      "name": "Pranctice_3_KM-01_<name>.ipynb",
      "provenance": [],
      "collapsed_sections": []
    },
    "kernelspec": {
      "name": "python3",
      "display_name": "Python 3"
    }
  },
  "cells": [
    {
      "cell_type": "markdown",
      "source": [
        "# **Курс \"Програмування на мові Python\"**"
      ],
      "metadata": {
        "id": "1bRxWHr5e8kt"
      }
    },
    {
      "cell_type": "markdown",
      "source": [
        "## **Практичне зайняття №3**\n",
        "### Тема: \"Перші програми на Python. Введення та виведення даних. Інструкція if\""
      ],
      "metadata": {
        "id": "buZUwUgFe-kx"
      }
    },
    {
      "cell_type": "markdown",
      "source": [
        "### **Завдання 1 (1,5 бали)**\n",
        "\n"
      ],
      "metadata": {
        "id": "PUkxEn8EfAUe"
      }
    },
    {
      "cell_type": "markdown",
      "source": [
        "**Написати програму введення та виведення даних про одержувача листа (посилки) за стандартами Укрпошти.**\r\n",
        "\r\n",
        "1. Усі запити на введення даних повинні супроводжуватись відповідними підказками-поясненнями (бажано англійською мовою).\r\n",
        "\r\n",
        "2. Дані мають виводитись так, як показано нижче (з урахуванням кількості рядків та послідовності даних у кожному з них).\r\n",
        "\r\n",
        "3. Дані, виділені жирним шрифтом, повинні вводитись із клавіатури. Всього має бути 9 окремих команд введення даних\r\n",
        "\r\n",
        "4. Назви змінних повинні бути інформативними та оформленими відповідно до правил іменування змінних\r\n",
        "\r\n",
        "5. Додати 2 коментарі, що вказують на блоки введення та виведення даних.\r\n",
        "\r\n",
        "***Формат виведення даних:***\r\n",
        "\r\n",
        "(1) **Ім'я** (2) **Прізвище**\r\n",
        "\r\n",
        "(3) **Номер телефону**\r\n",
        "\r\n",
        "Str. (4) **Назва вулиці** (5) **Номер будинку**, ap. (6) **Номер квартири**, (7) **Місто**\r\n",
        "\r\n",
        "(8) **Індекс**\r\n",
        "\r\n",
        "(9) **Країна**\r\n",
        "\r\n",
        "***Приклад виведення:***\r\n",
        "\r\n",
        "*Lucas Diallo*\r\n",
        "\r\n",
        "*3221234567*\r\n",
        "\r\n",
        "*Str. Longue 3, ap. 5, Bruxelles*\r\n",
        "\r\n",
        "*1020*\r\n",
        "\r\n",
        "*Belgium*"
      ],
      "metadata": {
        "id": "M7jjwxAvfKa2"
      }
    },
    {
      "cell_type": "code",
      "execution_count": null,
      "source": [
        "name = input('Enter your name: ' ) #data entry\r\n",
        "surname = input('Enter your surname: ' )\r\n",
        "number = input('Enter your phone number: ') \r\n",
        "street = input('Enter your street name: ')\r\n",
        "house_number = input('Enter your house number: ')\r\n",
        "flat_number = input('Enter your float number: ')\r\n",
        "city = input('Enter name of your city: ')\r\n",
        "index = input('Enter your index: ')\r\n",
        "country = input('Enter name of your country : ')\r\n",
        "print( str(name) + ' ' + str(surname) ) #data output\r\n",
        "print( number )\r\n",
        "print( str('Str.') + str(street) + str(house_number) + ',' + str('ap.') + str(flat_number) + ',' + str(city) )\r\n",
        "print( index )\r\n",
        "print( country )"
      ],
      "outputs": [],
      "metadata": {}
    },
    {
      "cell_type": "markdown",
      "source": [
        "### **Завдання 2 (1,5 бали)**"
      ],
      "metadata": {
        "id": "WmnpKrmPf689"
      }
    },
    {
      "cell_type": "markdown",
      "source": [
        "Таблиця містить магнітуду землетрусів за шкалою Ріхтера та дескриптори, що їй відповідають.\n",
        "\n",
        "Магнітуда | Дескриптор\n",
        "--- | ---\n",
        "Менше, ніж 2 | Micro\n",
        "Від 2 до менше ніж 3 | Very minor\n",
        "Від 3 до менше ніж 4 | Minor\n",
        "Від 4 до менше ніж 5 | Light\n",
        "Від 5 до менше ніж 6 | Moderate\n",
        "Від 6 до менше ніж 7 | Strong\n",
        "Від 7 до менше ніж 8 | Major\n",
        "Від 8 до менше ніж 10 | Great\n",
        "10 та більше | Meteoric\n",
        "\n",
        "Напишіть програму, яка буде зчитувати магнітуду, введену користувачем, та виводити відповідний дескриптор як частину змістовного повідомлення. Наприклад, якщо користувач вводить 5.5, ваша програма повинна показати, що землетрус з такою магнітудою є помірним (moderate)."
      ],
      "metadata": {
        "id": "4n4p_pz7gFKM"
      }
    },
    {
      "cell_type": "code",
      "execution_count": null,
      "source": [
        "magnitude = float(input('Enter magnitude : ')) #data entry\r\n",
        "if magnitude < 2 :\r\n",
        "    print('An earthquake of this magnitude is micro') #data output\r\n",
        "elif 2<= magnitude < 3 :\r\n",
        "    print('An earthquake of this magnitude is very minor')\r\n",
        "elif 3<= magnitude < 4 :\r\n",
        "    print('An earthquake of this magnitude is minor')\r\n",
        "elif 4<= magnitude < 5 :\r\n",
        "    print('An earthquake of this magnitude is light')\r\n",
        "elif 5<= magnitude < 6 :\r\n",
        "    print('An earthquake of this magnitude is moderate')\r\n",
        "elif 6<= magnitude < 7 :\r\n",
        "    print('An earthquake of this magnitude is strong')\r\n",
        "elif 7<= magnitude < 8 :\r\n",
        "    print('An earthquake of this magnitude is major')\r\n",
        "elif 8<= magnitude < 9 :\r\n",
        "    print('An earthquake of this magnitude is great')\r\n",
        "else :\r\n",
        "    print('An earthquake of this magnitude is meteoric')"
      ],
      "outputs": [],
      "metadata": {
        "id": "Nv66Jkkpf-sI"
      }
    },
    {
      "cell_type": "markdown",
      "source": [
        "### **Завдання 3 (бонусне, 1 бал)**"
      ],
      "metadata": {
        "id": "X8fC_GM_nMRi"
      }
    },
    {
      "cell_type": "markdown",
      "source": [
        "Часто говорять, що один календарний рік еквівалентний 7 рокам для собаки. Однак таке просте перетворення не враховує того, що собаки досягають повноліття приблизно у 2 роки. Тому деякі люди вважать, що краще рахувати кожен з перших двох календарних років як 10,5 років для собаки, а потім рахувати кожен наступний календарний рік як 4 роки для собаки.\n",
        "\n",
        "Напишіть програму, яка конвертує календарні роки у \"собачі\", як було показано в попередньому абзаці. Переконайтесь, що ваша програма працює правильно, конвертуючи перші два календарні роки та всі подальші. Ваша програма також повинна виводити повідомлення про помилку, якщо користувач введе від'ємне число."
      ],
      "metadata": {
        "id": "b593txPwotgN"
      }
    },
    {
      "cell_type": "code",
      "execution_count": null,
      "source": [
        "age = float(input('Enter age of your dog : ')) #data entry\r\n",
        "if age <= 0 :\r\n",
        "    print('Incorrectly entered data') #data output\r\n",
        "elif 0 < age <= 2 :\r\n",
        "    real_age = age * 10.5\r\n",
        "    print ( str('Real age of your dog is ') + str(real_age) )\r\n",
        "else  :\r\n",
        "    a = 2 * 10.5\r\n",
        "    b = age - 2\r\n",
        "    b = b * 4\r\n",
        "    real_age = a + b\r\n",
        "    print ( str('Real age of your dog is ') + str(real_age) )"
      ],
      "outputs": [],
      "metadata": {
        "id": "PA_E_H0Zosu0"
      }
    }
  ]
}