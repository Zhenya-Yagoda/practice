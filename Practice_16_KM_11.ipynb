{
  "cells": [
    {
      "cell_type": "markdown",
      "metadata": {
        "id": "FMqboNwO4rVs"
      },
      "source": [
        "# **Курс \"Програмування на мові Python\"**"
      ]
    },
    {
      "cell_type": "markdown",
      "metadata": {
        "id": "A2T6MigL5Z06"
      },
      "source": [
        "## **Практичне зайняття №16**\n",
        "\n",
        "### Тема: \"Декоратори\""
      ]
    },
    {
      "cell_type": "markdown",
      "metadata": {},
      "source": [
        "### **Завдання 1 (1,5 бали)**\n",
        "\n",
        "Реалізуйте підрахунок площі трикутника з використанням декоратора, який перевірятиме можливість побудови трикутника з трьох введених користувачем сторін.\n",
        "\n",
        "1. Напишіть функцію area_calculation, яка підраховуватиме площу трикутника за трьома сторонами. Для підрахунку можете скористатись формулою Герона.\n",
        "\n",
        "2. Напишіть функцію check, яка перевірятиме правильність введених користувачем значень (значення мають бути додатними числами, не обов'язково цілими).\n",
        "\n",
        "3. Створіть декоратор triangle_ineq, який перевірятиме виконання нерівності трикутрика для трьох заданих користувачем сторін. Навісьте декоратор triangle_ineq на функція area_calculation та перевірте правильність роботи програми."
      ]
    },
    {
      "cell_type": "code",
      "execution_count": 4,
      "metadata": {
        "id": "yiRr2CqMWxLA"
      },
      "outputs": [
        {
          "name": "stdout",
          "output_type": "stream",
          "text": [
            "Inequality is not fair.\n",
            "So we can not count the area of ​​the triangle with sides 11.0,2.0,3.0.Enter data again please. \n",
            "--------------------------------------------\n",
            "Inequality is fair.\n",
            "Therefore, the area of ​​the triangle with sides 5.0,4.0,3.0 is equal to:\n",
            "6.0\n"
          ]
        }
      ],
      "source": [
        "ok=False\n",
        "while not ok:\n",
        "    a='a'\n",
        "    b='b'\n",
        "    cc='c'\n",
        "    def check(x):\n",
        "        x1=input(f'Enter {x} - ')\n",
        "        try :\n",
        "            x1=float(x1)\n",
        "            if x1>0:\n",
        "                return x1\n",
        "            else:\n",
        "                print(f'Error. {x} > 0.')\n",
        "                return check(x)\n",
        "        except:\n",
        "            print('Error.')\n",
        "            return check(x)\n",
        "    a=check(a)\n",
        "    b=check(b)\n",
        "    cc=check(cc)\n",
        "\n",
        "    def triangle_ineq(f):\n",
        "        def _(a,b,c):\n",
        "            if a<b+c and b<a+c and c<b+a:\n",
        "                g='Inequality is fair.'\n",
        "            else:\n",
        "                g='Inequality is not fair.'\n",
        "            return g\n",
        "        return _\n",
        "    @triangle_ineq\n",
        "    def area_calculation(a , b , cc):\n",
        "        pass\n",
        "    print(area_calculation(a , b , cc))\n",
        "    if area_calculation(a , b , cc)=='Inequality is fair.':\n",
        "        def d(f):\n",
        "            def _(a,b,c):\n",
        "                p=(a+b+c)/2\n",
        "                s=(p*(p-a)*(p-b)*(p-c))**0.5\n",
        "                print(f'Therefore, the area of ​​the triangle with sides {a},{b},{c} is equal to:')\n",
        "                return round(s,3)\n",
        "            return _\n",
        "        @d\n",
        "        def area_calculation(a , b , cc):\n",
        "            pass\n",
        "            \n",
        "        print(area_calculation(a , b , cc))\n",
        "        ok=True\n",
        "    else:\n",
        "        print(f'So we can not count the area of ​​the triangle with sides {a},{b},{cc}.Enter data again please. ')\n",
        "        print('--------------------------------------------')"
      ]
    },
    {
      "cell_type": "markdown",
      "metadata": {},
      "source": [
        "### **Завдання 2 (1,5 бали)**\n",
        "\n",
        "Більшість друкованих книг (особливо це стосується книг у твердій палітурці) складаються із зошитів. Припустимо, що в друкарні текст друкується на листах паперу удвічі більших за звичайний книжковий формат. Потім ці листи складаються вдвічі, з них формуються зошити, які потім зшиваються у блок.\n",
        "\n",
        "Розглянемо конкретний приклад.\n",
        "\n",
        "Припустимо, що кожен зшитий зошит нашої книги складається з 8 листів (16 сторінок). Якщо уявити великі листи, з яких потім складаються зошити, то на кожному таком листі буде по 4 сторінки книги. У нашій книзі таких великих листів буде 4. Розглянемо перший лист. З одного боку на ньому будуть надруковані сторінки 16 та 1, з іншого - 2 та 15. На другому листі з одного боку будуть надруковані сторінки 14 та 3, з іншого - 4 та 13.\n",
        "\n",
        "**Написати програму, яка визначатиме послідовність сторінок, що будуть надруковані на кожному великому листі.**\n",
        "\n",
        "1. Користувач має вводити з клавіатури кількість сторінок у книзі (не більше 1280).\n",
        "\n",
        "2. Зверніть увагу на те, що загальна кількість сторінок у книзі має бути кратною кількості сторінок у зошиті. Якщо користувач введе число, що не задовольняє цій умові, програма повинна запропонувати користувачеві ввесте інше значення.\n",
        "\n",
        "3. Зверніть увагу на те, що на великих листах поворот аркуша відбувається за коротким краєм. Отже, якщо з одного боку аркуша надруковано сторінки 16 та 1, то з іншого 2 та 15 (а не 15, 2), якщо дивитись зліва направо.\n",
        "\n",
        "4. Функція, яка визначатиме послідовність книжкових сторінок, має виводити на екран рядок за рядком номери сторінок кожного зошита, а також кількість зошитів у книзі.\n",
        "\n",
        "5. Створіть декоратор з параметром, що прийматиме на вхід аргументи False або True, та навісьте цей декоратор на попередню функцію. Якщо параметр дорівнює False, додаткові функції декоратора не повинні виконуватись, тобто має виконатись лише функція з п. 4. Якщо параметр дорівнює True, декоратор повинен створювати список усіх сторінок у потрібній послідовності та роздруковувати його. Номери сторінок кожного зошита мають зберігатись в окремому вкладеному списку. Для 16-сторінкового зошита список повинен мати вигляд:\n",
        "\n",
        "`[[16, 1, 2, 15, 14, 3, 4, 13, ..., 10, 7, 8, 9], [32, 17, 18, 31, ...], ... ]`\n",
        "\n",
        "**Бонусне завдання (за бажанням)**\n",
        "\n",
        "6. Замість функції з п. 4 створіть генератор, який буде визначати послідовність книжкових сторінок для кожного зошита. Ці рядки можна потім вивести або у циклі, або за допомогою функції next(). Функція-декоратор має працювати з цим генератором так само, як і зі звичайною функцією."
      ]
    },
    {
      "cell_type": "code",
      "execution_count": 5,
      "metadata": {},
      "outputs": [
        {
          "name": "stdout",
          "output_type": "stream",
          "text": [
            "Error. the number of pages in book must be a multiple of 16. \n",
            "For example , you can choose 48 or 64\n",
            "FOR False : \n",
            "----------------------------------------\n",
            "Page number for the notebook №1 -  16, 1, 2, 15, 14, 3, 4, 13, 12, 5, 6, 11, 10, 7, 8, 9\n",
            "Page number for the notebook №2 -  32, 17, 18, 31, 30, 19, 20, 29, 28, 21, 22, 27, 26, 23, 24, 25\n",
            "Page number for the notebook №3 -  48, 33, 34, 47, 46, 35, 36, 45, 44, 37, 38, 43, 42, 39, 40, 41\n",
            "----------------------------------------\n",
            "Amout of notebooks in book are 3\n",
            "---------------------------------------- \n",
            "FOR TRUE :\n",
            " ----------------------------------------\n",
            "List of the notebooks with number of pages :\n",
            "[[16, 1, 2, 15, 14, 3, 4, 13, 12, 5, 6, 11, 10, 7, 8, 9], [32, 17, 18, 31, 30, 19, 20, 29, 28, 21, 22, 27, 26, 23, 24, 25], [48, 33, 34, 47, 46, 35, 36, 45, 44, 37, 38, 43, 42, 39, 40, 41]]\n",
            "----------------------------------------\n",
            "Page number for the notebook №1 -  16, 1, 2, 15, 14, 3, 4, 13, 12, 5, 6, 11, 10, 7, 8, 9\n",
            "Page number for the notebook №2 -  32, 17, 18, 31, 30, 19, 20, 29, 28, 21, 22, 27, 26, 23, 24, 25\n",
            "Page number for the notebook №3 -  48, 33, 34, 47, 46, 35, 36, 45, 44, 37, 38, 43, 42, 39, 40, 41\n",
            "----------------------------------------\n",
            "Amout of notebooks in book are 3\n"
          ]
        }
      ],
      "source": [
        "x='the number of pages in book'\n",
        "def check(x):\n",
        "    x1=input(f'Enter {x} - ')\n",
        "    try :\n",
        "        x1=int(x1)   \n",
        "        if 1280>=x1>16: \n",
        "            m=x1//16\n",
        "            o=x1%16\n",
        "            if  o==0: \n",
        "                return x1\n",
        "            else : \n",
        "                print(f'Error. {x} must be a multiple of 16. ')\n",
        "                print(f'For example , you can choose {m*16} or {(m+1)*16}')\n",
        "                return check(x)\n",
        "        elif 0<x1<16:\n",
        "            print(f'Error. {x} must be a multiple of 16. ')\n",
        "            print('For example , you can choose 16')\n",
        "            return check(x)\n",
        "        elif x1==16:\n",
        "            return x1\n",
        "        else:\n",
        "            print(f'Error. {x} must be from 1 to 1280 and be a multiple of 16. ')\n",
        "            return check(x)\n",
        "    except:\n",
        "        print('Error.')\n",
        "        return check(x)\n",
        "a=check(x)\n",
        "def count(a):\n",
        "    global all_nt #so sorry)\n",
        "    num_of_n=a//16\n",
        "    list_of_pages=[i for i in range(1,a+1)]\n",
        "    f_l_of_n=[]\n",
        "    all_nt=[]\n",
        "    while len(list_of_pages)!=0:\n",
        "        l=list_of_pages[:16]\n",
        "        list_of_pages=list_of_pages[16:]\n",
        "        while len(l)!=0:\n",
        "            lst=[]\n",
        "            for i in range(4):  \n",
        "                lst.append(l[-1])\n",
        "                lst.append(l[0])\n",
        "                lst.append(l[1])\n",
        "                lst.append(l[-2])\n",
        "                l.remove(l[0])\n",
        "                l.remove(l[0])\n",
        "                l.remove(l[-1])\n",
        "                l.remove(l[-1])\n",
        "            row=[]\n",
        "            all_nt.append(lst)\n",
        "            for j in lst:\n",
        "                row.append(str(j))\n",
        "            row=', '.join(row)\n",
        "            f_l_of_n.append(row)\n",
        "    print('-'*40)\n",
        "    for j in range(0 , len(f_l_of_n )):\n",
        "        print(f'Page number for the notebook №{j+1} - ' , f_l_of_n[j])\n",
        "    print('-'*40)   \n",
        "    k=f'Amout of notebooks in book are {num_of_n}'\n",
        "    return k\n",
        "\n",
        "\n",
        "def d(active=True):\n",
        "    def wrap(func):\n",
        "        def wrapper(a):\n",
        "            if active:\n",
        "                print('-'*40,'\\nFOR TRUE :\\n','-'*40)\n",
        "                lstt=f'List of the notebooks with number of pages :\\n{all_nt}'\n",
        "                print(lstt)\n",
        "                return  count(a)\n",
        "            else:\n",
        "                print('FOR False : ')\n",
        "                return count(a)\n",
        "\n",
        "        return wrapper\n",
        "    return wrap\n",
        "\n",
        "@d(active=False)\n",
        "def f_False(p):\n",
        "    pass\n",
        "print(f_False(a))\n",
        "\n",
        "@d(active=True)\n",
        "def f_True(p):\n",
        "    pass\n",
        "print(f_True(a))"
      ]
    }
  ],
  "metadata": {
    "colab": {
      "collapsed_sections": [],
      "name": "Practice_10-11_KM_01_.ipynb",
      "provenance": []
    },
    "kernelspec": {
      "display_name": "Python 3",
      "name": "python3"
    },
    "language_info": {
      "codemirror_mode": {
        "name": "ipython",
        "version": 3
      },
      "file_extension": ".py",
      "mimetype": "text/x-python",
      "name": "python",
      "nbconvert_exporter": "python",
      "pygments_lexer": "ipython3",
      "version": "3.8.8"
    }
  },
  "nbformat": 4,
  "nbformat_minor": 0
}
